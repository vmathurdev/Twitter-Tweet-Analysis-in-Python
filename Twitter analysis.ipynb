{
 "cells": [
  {
   "cell_type": "code",
   "execution_count": 7,
   "id": "8898869e",
   "metadata": {},
   "outputs": [],
   "source": [
    "import os\n",
    "import tweepy as tw\n",
    "import pandas as pd"
   ]
  },
  {
   "cell_type": "code",
   "execution_count": 6,
   "id": "bfceaaba",
   "metadata": {},
   "outputs": [
    {
     "name": "stdout",
     "output_type": "stream",
     "text": [
      "Requirement already satisfied: tweepy in c:\\users\\vinam\\anaconda3\\lib\\site-packages (4.6.0)\n",
      "Requirement already satisfied: requests<3,>=2.27.0 in c:\\users\\vinam\\anaconda3\\lib\\site-packages (from tweepy) (2.27.1)\n",
      "Requirement already satisfied: oauthlib<4,>=3.2.0 in c:\\users\\vinam\\anaconda3\\lib\\site-packages (from tweepy) (3.2.0)\n",
      "Requirement already satisfied: requests-oauthlib<2,>=1.2.0 in c:\\users\\vinam\\anaconda3\\lib\\site-packages (from tweepy) (1.3.1)\n",
      "Requirement already satisfied: charset-normalizer~=2.0.0 in c:\\users\\vinam\\anaconda3\\lib\\site-packages (from requests<3,>=2.27.0->tweepy) (2.0.4)\n",
      "Requirement already satisfied: idna<4,>=2.5 in c:\\users\\vinam\\anaconda3\\lib\\site-packages (from requests<3,>=2.27.0->tweepy) (3.2)\n",
      "Requirement already satisfied: certifi>=2017.4.17 in c:\\users\\vinam\\anaconda3\\lib\\site-packages (from requests<3,>=2.27.0->tweepy) (2021.10.8)\n",
      "Requirement already satisfied: urllib3<1.27,>=1.21.1 in c:\\users\\vinam\\anaconda3\\lib\\site-packages (from requests<3,>=2.27.0->tweepy) (1.26.7)\n",
      "Note: you may need to restart the kernel to use updated packages.\n"
     ]
    }
   ],
   "source": [
    "pip install tweepy"
   ]
  },
  {
   "cell_type": "code",
   "execution_count": 9,
   "id": "bfa355d7",
   "metadata": {},
   "outputs": [
    {
     "name": "stdout",
     "output_type": "stream",
     "text": [
      "RT @CoopsCanada: The @CoopMgmt at @smuhalifax offers part-time, online degrees in Co-operative and Credit Union Management. Interested in l…\n",
      "Saint Mary’s University of Minnesota has recently been awarded a $1.18 million NSF Noyce Grant in support of the un… https://t.co/WfU8nvRtcv\n",
      "SMUSA is hiring!!!\n",
      "\n",
      "The VP Academic &amp; Internal plays a key role in advancing the academic and policy interests of t… https://t.co/Ej2QeDt83F\n",
      "The @CoopMgmt at @smuhalifax offers part-time, online degrees in Co-operative and Credit Union Management. Interest… https://t.co/me117ffzuA\n",
      "LIVE on ESPN 2022 University Credit Union Men's #WCChoops Tournament Championship Game #17 Saint Mary's vs #1 Gonza… https://t.co/VlD6ux1lzR\n",
      "@MJ_GoGaels @saintmaryshoops Saint Mary's COLLEGE. Skyy Clark is only going to a university.\n",
      "Juniors &amp; Seniors: GCHS has several upcoming college rep visits:\n",
      "\n",
      "Shawnee State University - Mar 17  3rd Per\n",
      "\n",
      "Saint… https://t.co/KN05fGGRpU\n",
      "RT @portvikings: Port Baseball College Commits:\n",
      "\n",
      "• Dan Alexander (‘22 / 3B) ➡️ Mount Saint Mary’s College\n",
      "\n",
      "• Michael Andrew (‘22 / LHP) ➡️…\n",
      "RT @portvikings: Port Baseball College Commits:\n",
      "\n",
      "• Dan Alexander (‘22 / 3B) ➡️ Mount Saint Mary’s College\n",
      "\n",
      "• Michael Andrew (‘22 / LHP) ➡️…\n",
      "Port Baseball College Commits:\n",
      "\n",
      "• Dan Alexander (‘22 / 3B) ➡️ Mount Saint Mary’s College\n",
      "\n",
      "• Michael Andrew (‘22 / L… https://t.co/VCk4x8rNOf\n",
      "Juniors and Seniors: Interested in learning more about Mt. Saint Mary's University? We will have a rep visiting us… https://t.co/PSMcjU7Yhy\n",
      "RT @GAC_AGC: GAC's 2021 Student Photo Competition Winners!  🙌⛏🌏\n",
      "\n",
      "1st Place - Chenille Callender (Saint Mary's University)\n",
      "2nd Place - Gabri…\n",
      "Science Homework Help Saint Mary’s University TESS Observatory Astronomy Questions\n",
      "\n",
      "I'm working on a https://t.co/mCYYR6oMHq\n",
      "Soccer Id Showcase at Merritt College! Got to show my skills to Fresno State University,Saint Mary’s College of Cal… https://t.co/zLmrZamj6T\n",
      "On Feb. 16, the Project FINE Board of Directors hosted their Annual Report to the Community at Saint Mary’s Univers… https://t.co/btqA1KxpNc\n",
      "It’s no wonder the visual art community in Halifax was chewing its lip last year as whispers of the Saint Mary’s Un… https://t.co/hNVnQeOnNR\n",
      "Watch out East Coast!\n",
      "    BYU\n",
      "    Gonzaga\n",
      "    University of San Francisco\n",
      "    Saint Mary's\n",
      "ALL strong contenders fo… https://t.co/6Kl7dFP8fY\n",
      "@ESPNPlusHelp Can you pls help me find the earlier NCAA Womens Water Polo game between Mt Saint Mary’s and Cal Luth… https://t.co/b4XSDQROiB\n",
      "RT @NSSHF: Today is also Hall of Famer Will Njoku's birthday! Njoku was winner of the Mike Moser Award as the CIAU's Most Outstanding Playe…\n",
      "Today is also Hall of Famer Will Njoku's birthday! Njoku was winner of the Mike Moser Award as the CIAU's Most Outs… https://t.co/t3AyiJTrh3\n"
     ]
    }
   ],
   "source": [
    "consumer_key= 'Gckuc9rh1j78YSDUspkHnK6dO' \n",
    "consumer_secret= 'L5wuscnAJUN66ISbjOyKfPZ1ISUkiStMAlDD7eXG59Bb0gb5Z0'\n",
    "access_token= '2257992877-lB3iHITsJzxt9a5sYPrA3HowhbRQtmqMsmTeQMG'\n",
    "access_token_secret= 'SFWKRwENPA8rtNx8ryAdmI6181aNWtmE7H6I3TUZ9vAFb'\n",
    "\n",
    "auth = tw.OAuthHandler(consumer_key, consumer_secret)\n",
    "auth.set_access_token(access_token, access_token_secret)\n",
    "api = tw.API(auth, wait_on_rate_limit=True)\n",
    "\n",
    "tweets = tw.Cursor(api.search_tweets,\n",
    "              q=\"Saint Mary's University\",\n",
    "              lang=\"en\").items(20)\n",
    "\n",
    "for tweet in tweets:\n",
    "    print(tweet.text)"
   ]
  },
  {
   "cell_type": "code",
   "execution_count": null,
   "id": "9a3e84f2",
   "metadata": {},
   "outputs": [],
   "source": []
  }
 ],
 "metadata": {
  "kernelspec": {
   "display_name": "Python 3 (ipykernel)",
   "language": "python",
   "name": "python3"
  },
  "language_info": {
   "codemirror_mode": {
    "name": "ipython",
    "version": 3
   },
   "file_extension": ".py",
   "mimetype": "text/x-python",
   "name": "python",
   "nbconvert_exporter": "python",
   "pygments_lexer": "ipython3",
   "version": "3.9.7"
  }
 },
 "nbformat": 4,
 "nbformat_minor": 5
}
